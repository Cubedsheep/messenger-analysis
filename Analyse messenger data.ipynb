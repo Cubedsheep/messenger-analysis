{
 "cells": [
  {
   "cell_type": "markdown",
   "metadata": {},
   "source": [
    "# Data-analyse messenger chat"
   ]
  },
  {
   "cell_type": "markdown",
   "metadata": {},
   "source": [
    "## Initialization"
   ]
  },
  {
   "cell_type": "markdown",
   "metadata": {},
   "source": [
    "### Importing necessary packages"
   ]
  },
  {
   "cell_type": "code",
   "execution_count": null,
   "metadata": {},
   "outputs": [],
   "source": [
    "# misc numerical stuff\n",
    "import numpy as np\n",
    "import scipy.stats as nst\n",
    "import math\n",
    "\n",
    "# making plots\n",
    "import matplotlib.pyplot as plt\n",
    "# mainly used to change the general style of plots\n",
    "import matplotlib as mpl\n",
    "import matplotlib.colors as colors\n",
    "from matplotlib import patches\n",
    "import matplotlib.path as mpath\n",
    "Path = mpath.Path\n",
    "\n",
    "# class to draw curved text (following a circle)\n",
    "# class taken from this answer: \n",
    "# https://stackoverflow.com/questions/19353576/curved-text-rendering-in-matplotlib\n",
    "from curvedtext import CurvedText\n",
    "\n",
    "# used for handling the data\n",
    "import pandas as pd\n",
    "\n",
    "# used for importing the data\n",
    "import json\n",
    "\n",
    "mpl.rcParams[\"figure.dpi\"] = 150"
   ]
  },
  {
   "cell_type": "markdown",
   "metadata": {},
   "source": [
    "### constants used throughout the notebook"
   ]
  },
  {
   "cell_type": "code",
   "execution_count": null,
   "metadata": {},
   "outputs": [],
   "source": [
    "# whether to save plots or not\n",
    "SAVE_PLOTS = True\n",
    "# format used to save the plots\n",
    "EXTENSION = \".png\"\n",
    "# the subfolder where the plots will be saved\n",
    "# THIS FOLDER MUST EXIST\n",
    "SUBFOLDER = \"plots bis/\"\n",
    "\n",
    "# the dpi used to save the plots\n",
    "DPI = 600\n",
    "# the amount of JSON files to read (messages are grouped per 10 000)\n",
    "FILES = 4\n",
    "\n",
    "# date range from which data should be used\n",
    "# date format used is yyyy-mm-dd hh:mm:ss\n",
    "# you must specify up to the day, when no more\n",
    "# hours or more precise is given, it will include\n",
    "# everything from the beginning and end day\n",
    "BEGIN = \"2000-01-01\"\n",
    "END = \"2020-12-31\""
   ]
  },
  {
   "cell_type": "markdown",
   "metadata": {},
   "source": [
    "## Extracting the data"
   ]
  },
  {
   "cell_type": "code",
   "execution_count": null,
   "metadata": {},
   "outputs": [],
   "source": [
    "# array to hold the data temporarly\n",
    "data_strings = []\n",
    "\n",
    "# loop over all files containing data for this chat and extract the data\n",
    "for i in range(1, FILES+1):\n",
    "    with open('message_%d.json' % i, 'r') as data_file:\n",
    "        data_strings.append(data_file.read())\n",
    "        data_file=None\n",
    "        \n",
    "data_dicts = []\n",
    "        \n",
    "# convert the json strings to dictionaries\n",
    "for string in data_strings:\n",
    "    data_dicts.append(json.loads(string))"
   ]
  },
  {
   "cell_type": "markdown",
   "metadata": {},
   "source": [
    "extract some useful data out of the dictionaries, and make a dataframe containing all the messages with metadata"
   ]
  },
  {
   "cell_type": "code",
   "execution_count": null,
   "metadata": {},
   "outputs": [],
   "source": [
    "# extract the names\n",
    "participants = data_dicts[0]['participants']\n",
    "NAMES = [participant['name'] for participant in participants]\n",
    "participants = None\n",
    "\n",
    "# extract the name of the group chat, this will be used\n",
    "# in the titles for plots etc.\n",
    "TITLE = data_dicts[0][\"title\"]"
   ]
  },
  {
   "cell_type": "code",
   "execution_count": null,
   "metadata": {},
   "outputs": [],
   "source": [
    "# the names displayed on charts\n",
    "first_names = [name.split()[0] for name in NAMES]"
   ]
  },
  {
   "cell_type": "code",
   "execution_count": null,
   "metadata": {},
   "outputs": [],
   "source": [
    "# extract data about which types of messages are there and\n",
    "# which keys are used\n",
    "messages = data_dicts[0]['messages']\n",
    "types = set()\n",
    "keys = set()\n",
    "\n",
    "for message in messages:\n",
    "    types.add(message['type'])\n",
    "    for key in message.keys():\n",
    "        keys.add(key)"
   ]
  },
  {
   "cell_type": "markdown",
   "metadata": {},
   "source": [
    "### add all message data to a dataframe"
   ]
  },
  {
   "cell_type": "code",
   "execution_count": null,
   "metadata": {},
   "outputs": [],
   "source": [
    "frames = []\n",
    "\n",
    "for data_dict in data_dicts:\n",
    "    # create the dataframe\n",
    "    df = pd.DataFrame(data_dict['messages'])\n",
    "    # convert the timestamps to a readable format\n",
    "    df[\"timestamp_ms\"] = pd.to_datetime(df[\"timestamp_ms\"], unit=\"ms\")\n",
    "    # set the datums as index of the dataframe\n",
    "    df = df.set_index(\"timestamp_ms\")\n",
    "    # sort the frame\n",
    "    df = df.sort_index()\n",
    "    frames.append(df)\n",
    "    \n",
    "# create the frame containing all messages\n",
    "message_frame = pd.concat(frames, sort=True)\n",
    "# sort again\n",
    "message_frame = message_frame.sort_index()"
   ]
  },
  {
   "cell_type": "markdown",
   "metadata": {},
   "source": [
    "### some examples of querying the data + defenition of a count function"
   ]
  },
  {
   "cell_type": "markdown",
   "metadata": {},
   "source": [
    "Examples of how to querry data in the dataframe, used as a reference for the sections where the data is analysed"
   ]
  },
  {
   "cell_type": "code",
   "execution_count": null,
   "metadata": {},
   "outputs": [],
   "source": [
    "# create a frame with all messages of type subscribe\n",
    "message_frame.loc[message_frame[\"type\"] == \"Subscribe\"]\n",
    "# create a frame with all messages that do not contain an audio file\n",
    "# in this case the valu of audio_files will be NaN, test this with isna\n",
    "message_frame.loc[pd.isna(message_frame[\"audio_files\"])];"
   ]
  },
  {
   "cell_type": "markdown",
   "metadata": {},
   "source": [
    "To use frame.loc you need to create a boolean array, with 1 element for each row in the frame. loc will return a new frame containing the rows where the corresponding value in the boolean array is True. expressions like message_frame[\"type\"] == \"subscribe\" and pd.isna(message_frame[\"audio_files\"]) return boolean arrays."
   ]
  },
  {
   "cell_type": "markdown",
   "metadata": {},
   "source": [
    "A way to create a custom querry with a function that uses data from (multiple) columns that cannot be easily expressed in one line or is hard to vectorize is using the apply function, as shown in the following example. "
   ]
  },
  {
   "cell_type": "code",
   "execution_count": null,
   "metadata": {},
   "outputs": [],
   "source": [
    "# example: find the audio files with reactions\n",
    "\n",
    "# write a function that acts on a line of the dataframe:\n",
    "def audio_and_reaction(line):\n",
    "    # get the audio files\n",
    "    file = line[\"audio_files\"]\n",
    "    # test if this line contains a (list of) audio file(s)\n",
    "    has_audio = (type(file) == list)\n",
    "    # get the reactions\n",
    "    reactions = line[\"reactions\"]\n",
    "    # test if there are reactions\n",
    "    has_reactions = (type(reactions) == list)\n",
    "    \n",
    "    # test if the line has audio and reactions\n",
    "    if has_audio and has_reactions:\n",
    "        return True\n",
    "    return False\n",
    "\n",
    "# create the boolean array\n",
    "lines = message_frame.apply(audio_and_reaction, axis=1)\n",
    "# locate the relevant rows (remove semi-colon to see the result)\n",
    "frame = message_frame.loc[lines]\n",
    "frame;"
   ]
  },
  {
   "cell_type": "markdown",
   "metadata": {},
   "source": [
    "Its often the goal to count how many messages have a certain property, per person. The following function takes a dataframe (eg. the result of previous query) and counts the lines per person"
   ]
  },
  {
   "cell_type": "code",
   "execution_count": null,
   "metadata": {},
   "outputs": [],
   "source": [
    "def count_per_person(condition, df=message_frame, names=NAMES):\n",
    "    # get the lines that match the given condition\n",
    "    lines = df.apply(condition, axis=1)\n",
    "    # locate these lines\n",
    "    df = df.loc[lines]\n",
    "    # count how many lines each person has\n",
    "    count = {name : df.loc[df[\"sender_name\"] == name].count()[\"sender_name\"]\n",
    "             for name in names}\n",
    "    return count"
   ]
  },
  {
   "cell_type": "markdown",
   "metadata": {},
   "source": [
    "as an example, count the audio files with reactions sent by each person"
   ]
  },
  {
   "cell_type": "code",
   "execution_count": null,
   "metadata": {},
   "outputs": [],
   "source": [
    "count_per_person(audio_and_reaction)"
   ]
  },
  {
   "cell_type": "markdown",
   "metadata": {},
   "source": [
    "additional example: xp and xpxd in messages"
   ]
  },
  {
   "cell_type": "code",
   "execution_count": null,
   "metadata": {},
   "outputs": [],
   "source": [
    "def xp_in_message(line):\n",
    "    if type(line.content) == str:\n",
    "        words = line.content.lower().split(\" \")\n",
    "        if \"xp\" in words or \"xpxd\" in words:\n",
    "            return True\n",
    "    return False\n",
    "\n",
    "count_per_person(xp_in_message)"
   ]
  },
  {
   "cell_type": "markdown",
   "metadata": {},
   "source": [
    "### List all keys and types"
   ]
  },
  {
   "cell_type": "code",
   "execution_count": null,
   "metadata": {},
   "outputs": [],
   "source": [
    "keys"
   ]
  },
  {
   "cell_type": "code",
   "execution_count": null,
   "metadata": {},
   "outputs": [],
   "source": [
    "types"
   ]
  },
  {
   "cell_type": "markdown",
   "metadata": {},
   "source": [
    "## messages sent per person"
   ]
  },
  {
   "cell_type": "code",
   "execution_count": null,
   "metadata": {},
   "outputs": [],
   "source": [
    "count = count_per_person(lambda line : line[\"type\"] == \"Generic\")\n",
    "\n",
    "# make a barplot of the number of messages sent by each person\n",
    "fig, ax = plt.subplots(1,1, figsize=(12,7))\n",
    "\n",
    "# we cannot just use count.values as this method is non-deterministic,\n",
    "# which can potentially lead to values ending up with the wrong person.\n",
    "# furthermore its possible that the order of NAMES has been manually\n",
    "# changed in a more desired order.\n",
    "ax.bar(first_names, [count[name] for name in NAMES], width=0.65)\n",
    "plt.xticks(rotation=65)\n",
    "\n",
    "plt.title(\"Verstuurde berichten per persoon in %s\" %TITLE)\n",
    "\n",
    "plt.show()\n",
    "\n",
    "if SAVE_PLOTS:\n",
    "    fig.savefig(SUBFOLDER + \"messages sent\" + EXTENSION, dpi=DPI)"
   ]
  },
  {
   "cell_type": "code",
   "execution_count": null,
   "metadata": {},
   "outputs": [],
   "source": [
    "cum_stats = pd.DataFrame(list(count.values()))\n",
    "cum_stats.index = NAMES\n",
    "cum_stats.columns = [\"aantal berichten\"]\n",
    "\n",
    "count = None"
   ]
  },
  {
   "cell_type": "markdown",
   "metadata": {},
   "source": [
    "## \\<type\\> sent by each person"
   ]
  },
  {
   "cell_type": "markdown",
   "metadata": {},
   "source": [
    "count the amount of each type sent by each person"
   ]
  },
  {
   "cell_type": "code",
   "execution_count": null,
   "metadata": {},
   "outputs": [],
   "source": [
    "# function to test if a line contains a certain type\n",
    "def has_type(line, typ):\n",
    "    if type(line[typ]) == float:\n",
    "        if pd.isna(line[typ]):\n",
    "            return False\n",
    "    return True\n",
    "\n",
    "# all the types we ar interested in\n",
    "types = [\"photos\", \"videos\", \"audio_files\", \"plan\", \"gifs\", \"files\", \"sticker\"]\n",
    "\n",
    "# dict with for each type a dict with the counts per person\n",
    "type_per_person = {typ : {} for typ in types}\n",
    "\n",
    "# count how many times each type was sent by each person\n",
    "for typ in types:\n",
    "    type_per_person[typ] = count_per_person(lambda line : has_type(line, typ))"
   ]
  },
  {
   "cell_type": "markdown",
   "metadata": {
    "hidden": true
   },
   "source": [
    "**amount of photos sent**"
   ]
  },
  {
   "cell_type": "code",
   "execution_count": null,
   "metadata": {
    "hidden": true
   },
   "outputs": [],
   "source": [
    "# make a barplot of the number of photo's sent by each person\n",
    "fig, ax = plt.subplots(1,1, figsize=(12,7))\n",
    "\n",
    "ax.bar(first_names, [type_per_person['photos'][name] for name in NAMES], width=0.65)\n",
    "plt.xticks(rotation=75)\n",
    "\n",
    "plt.title(\"Verstuurde foto's per persoon in %s\" %TITLE)\n",
    "\n",
    "plt.show()\n",
    "\n",
    "if SAVE_PLOTS:\n",
    "    fig.savefig(SUBFOLDER + \"photos sent total\" + EXTENSION, dpi=DPI)"
   ]
  },
  {
   "cell_type": "markdown",
   "metadata": {},
   "source": [
    "**other non-text messages**"
   ]
  },
  {
   "cell_type": "code",
   "execution_count": null,
   "metadata": {
    "hidden": true
   },
   "outputs": [],
   "source": [
    "# make a barplot of the number of <type> sent by each person\n",
    "fig, ax = plt.subplots(1,1, figsize=(12,7))\n",
    "\n",
    "# the amount of entries (persons) and the width of the bars\n",
    "index = np.arange(len(type_per_person['videos']))\n",
    "width = 0.1\n",
    "\n",
    "# plot each dataset, ofset of 'index' so that the index is between bar 3 and bar 4\n",
    "for i in range(0,len(types)-1):\n",
    "    typ = types[i+1]\n",
    "    ax.bar(index-0.25+0.1*i, \n",
    "           [type_per_person[typ][name] for name in NAMES],\n",
    "           width=width, label=typ)\n",
    "\n",
    "plt.legend()\n",
    "# lay-out    \n",
    "ax.set_xticks(index)\n",
    "ax.set_xticklabels(first_names)\n",
    "plt.xticks(rotation=75)\n",
    "ax.grid(True)\n",
    "\n",
    "plt.title(\"Aantal <type> verstuurd of gemaakt per persoon in %s\" %TITLE)\n",
    "\n",
    "plt.show()\n",
    "\n",
    "if SAVE_PLOTS:\n",
    "    fig.savefig(SUBFOLDER + \"misc sent total\" + EXTENSION, dpi=DPI)"
   ]
  },
  {
   "cell_type": "code",
   "execution_count": null,
   "metadata": {},
   "outputs": [],
   "source": [
    "for i in range(0,len(types)-1):\n",
    "    typ = types[i+1]\n",
    "    cum_stats[typ] = [type_per_person[typ][name] for name in NAMES]"
   ]
  },
  {
   "cell_type": "code",
   "execution_count": null,
   "metadata": {},
   "outputs": [],
   "source": [
    "cum_stats"
   ]
  },
  {
   "cell_type": "markdown",
   "metadata": {},
   "source": [
    "## analysis reactions"
   ]
  },
  {
   "cell_type": "markdown",
   "metadata": {},
   "source": [
    "dictionary containing information to decode the reactions"
   ]
  },
  {
   "cell_type": "code",
   "execution_count": null,
   "metadata": {},
   "outputs": [],
   "source": [
    "# dictionary to decode the (wrongly red) unicode values for the emoji's to\n",
    "# the type of emoji they represent\n",
    "decode = {\"ð\\x9f\\x98\\x86\":\"laugh\", \"ð\\x9f\\x98\\x8d\":\"heart\", 'ð\\x9f\\x98®':\"wow\", \n",
    "          'ð\\x9f\\x98¢':\"crying\", 'ð\\x9f\\x98\\xa0':\"BOOS\", 'ð\\x9f\\x91\\x8d':'thumbs up',\n",
    "         'ð\\x9f\\x91\\x8e':\"thumbs down\"}\n",
    "# list with all reactions (used in the analysis) + other\n",
    "REACTIONS = [\"laugh\", \"heart\", 'wow', \"crying\", \"BOOS\", \"thumbs up\", \"thumbs down\", \"other\"]\n",
    "# get the index in REACTIONS of a certain reaction quickly, avoids having\n",
    "# to repeatedly search in an array\n",
    "REACTION_INDEX = {REACTIONS[i] : i for i in range(len(REACTIONS))}\n",
    "# same thing for the NAMES array\n",
    "NAMES_INDEX = {NAMES[i] : i for i in range(len(NAMES))}\n",
    "\n",
    "# the color corresponding to each emoji\n",
    "# color to use in plots for each emji\n",
    "emoji_color = {\"laugh\" : \"xkcd:sunflower\", \"heart\" : \"xkcd:vermillion\", \"wow\" : \"g\",\n",
    "               \"crying\" : \"xkcd:royal blue\", \"BOOS\" : \"xkcd:orange\", \n",
    "               \"thumbs up\" : \"xkcd:cyan\", \"thumbs down\" : \"w\", \"other\":\"xkcd:grey\"}"
   ]
  },
  {
   "cell_type": "markdown",
   "metadata": {},
   "source": [
    "boolean array wether a message has reactions"
   ]
  },
  {
   "cell_type": "code",
   "execution_count": null,
   "metadata": {},
   "outputs": [],
   "source": [
    "with_reacs = message_frame.apply(lambda line : type(line[\"reactions\"]) == list, axis=1)"
   ]
  },
  {
   "cell_type": "markdown",
   "metadata": {},
   "source": [
    "functions to count reactions by a person and reactions on a persons messages"
   ]
  },
  {
   "cell_type": "code",
   "execution_count": null,
   "metadata": {},
   "outputs": [],
   "source": [
    "# 3D array to keep reaction data in.\n",
    "# the value in reacs[i,j,k] represents the amount of reactions\n",
    "# BY NAMES[i] on messages of NAMES[j] where the reaction type is of type\n",
    "# REACTIONS[k]\n",
    "reacs = np.zeros((len(NAMES), len(NAMES), len(REACTIONS)))\n",
    "\n",
    "# function to fill the array reacs\n",
    "def count_reacs(line, reacs=reacs):\n",
    "    # get the sender of the message\n",
    "    sender = line[\"sender_name\"]\n",
    "    sender_index = NAMES_INDEX[sender]\n",
    "    # get the array with reactions\n",
    "    reactions = line[\"reactions\"]\n",
    "    \n",
    "    # loop over the reactions and add 1 to the relevant counts\n",
    "    for reaction in reactions:\n",
    "        # get the data about the reaction and actor\n",
    "        actor = reaction[\"actor\"]\n",
    "        actor_index = NAMES_INDEX[actor]\n",
    "        # info about the emoticon\n",
    "        try:\n",
    "            emoticon = decode[reaction[\"reaction\"]]\n",
    "            emoticon_index = REACTION_INDEX[emoticon]    \n",
    "        except:\n",
    "            emoticon_index = REACTION_INDEX[\"other\"]\n",
    "        # add 1 to the right entry in reacs\n",
    "        reacs[actor_index, sender_index, emoticon_index] += 1\n",
    "    # end for over reactions\n",
    "        \n",
    "\n",
    "# loop over all messages with reactions and parse them\n",
    "for index, row in message_frame.loc[with_reacs].iterrows():\n",
    "    count_reacs(row)"
   ]
  },
  {
   "cell_type": "markdown",
   "metadata": {},
   "source": [
    "create a function to easily create a dataframe from a slice of reacs, or by summing over the third dimension"
   ]
  },
  {
   "cell_type": "code",
   "execution_count": null,
   "metadata": {},
   "outputs": [],
   "source": [
    "# the keyword index will be ignored when sliced=False\n",
    "def reacs_frame(reacs, axis=2, sliced=True, index=0):\n",
    "    # get the right 2D-array with data\n",
    "    if sliced:\n",
    "        if axis==0:\n",
    "            data = reacs[index,:,:]\n",
    "        elif axis==1:\n",
    "            data = reacs[:,index,:]\n",
    "        elif axis==2:\n",
    "            data = reacs[:,:,index]\n",
    "        else:\n",
    "            return \"enter a valid axis\"\n",
    "    else:\n",
    "        data = np.sum(reacs, axis=axis)\n",
    "        \n",
    "    # the labels for the axisses of the reaxs array\n",
    "    label0 = NAMES\n",
    "    label1 = NAMES\n",
    "    label2 = REACTIONS\n",
    "    \n",
    "    # create the dataframe\n",
    "    # the index is the first axis that is not sliced/summed over\n",
    "    # the column names is the second axis that is not sliced/summed over\n",
    "    if axis==0:\n",
    "        df = pd.DataFrame(data=data, index=label1, columns=label2)\n",
    "    elif axis==1:\n",
    "        df = pd.DataFrame(data=data, index=label0, columns=label2)\n",
    "    else:\n",
    "        df = pd.DataFrame(data=data, index=label0, columns=label1)\n",
    "        \n",
    "    return df"
   ]
  },
  {
   "cell_type": "code",
   "execution_count": null,
   "metadata": {},
   "outputs": [],
   "source": [
    "reacs_frame(reacs, axis=2, sliced=True, index=REACTION_INDEX[\"BOOS\"])"
   ]
  },
  {
   "cell_type": "code",
   "execution_count": null,
   "metadata": {},
   "outputs": [],
   "source": [
    "data=np.sum(reacs, (1))\n",
    "pd.DataFrame(data=data[:,REACTION_INDEX[\"BOOS\"]], index=NAMES, columns=[\"BOOS reacs door\"])"
   ]
  },
  {
   "cell_type": "markdown",
   "metadata": {},
   "source": [
    "## Plotderplots"
   ]
  },
  {
   "cell_type": "code",
   "execution_count": null,
   "metadata": {},
   "outputs": [],
   "source": [
    "# create the figure and ax objects\n",
    "# fig, ax = plt.subplots(1,1)\n",
    "\n",
    "# calculate the begin and end of each piece of the arc. \n",
    "# the length of each arc corresponds\n",
    "# to the amount of reactions it represents. Leave a gap of\n",
    "# 2° between different persons and 1° between in and out\n",
    "\n",
    "# create the empty dictionary where the angles will be stored\n",
    "arcs = {name : {\"out\" : {reac : {name : (0,0) for name in NAMES} for reac in REACTIONS},\n",
    "                \"in\" : {reac : {name : (0,0) for name in NAMES} for reac in REACTIONS}}\n",
    "        for name in NAMES}\n",
    "# array containing the angles for the seperators between persons and in/out\n",
    "seps = {name : {\"inout\" : (0,0), \"person\" : (0,0)} for name in NAMES}\n",
    "# dict with the start and end of the complete arc for one type\n",
    "total_arcs = {name : {\"all\" : [0,0], \"by\" : [0,0], \"on\" : [0,0]} for name in NAMES}\n",
    "\n",
    "\n",
    "# the angle of the seperator between reactions by and on\n",
    "SPACE_INOUT = 0.2\n",
    "# the angle of the seperator between two people\n",
    "SPACE_PERSON = 0.3\n",
    "# the amount of whitespace around a separator (in units of the width\n",
    "# of the separator)\n",
    "WHITE_SPACE = 2\n",
    "# the total angle that can be used for the visualisation\n",
    "total_angle = 360 - (WHITE_SPACE*2+1)*(SPACE_INOUT+SPACE_PERSON)*len(NAMES)\n",
    "# the angle that represents 1 reaction\n",
    "reaction_angle = total_angle / (np.sum(reacs)*2)\n",
    "\n",
    "# small angle of overlap to avoid white lines between segments\n",
    "delta = reaction_angle/2\n",
    "\n",
    "# function to cycle the order of NAMES to minimize crossing of lines\n",
    "def cycle_names(names, own_name):\n",
    "    # the own name should be last in the array\n",
    "    index = NAMES_INDEX[own_name]\n",
    "    out = []\n",
    "    for i in range(len(names)):\n",
    "        out.append(names[(index-1-i) % (len(names))])\n",
    "    return out\n",
    "\n",
    "# the starting angle\n",
    "theta = 1\n",
    "for name1 in NAMES:\n",
    "    # variables with the midpoint of the segments for this person\n",
    "    total_arcs[name1][\"by\"][0] = theta\n",
    "    total_arcs[name1][\"all\"][0] = theta\n",
    "    # the outgoing lines, reactions BY name1\n",
    "    for reac in REACTIONS:\n",
    "        for name2 in cycle_names(NAMES, name1):\n",
    "            # calculate the angle of this segment\n",
    "            by = NAMES_INDEX[name1]\n",
    "            on = NAMES_INDEX[name2]\n",
    "            re = REACTION_INDEX[reac]\n",
    "            dtheta = reaction_angle*reacs[by,on,re]\n",
    "            \n",
    "            # add the beginning and end angle to the dictionary\n",
    "            arcs[name1][\"out\"][reac][name2] = (theta-delta, theta+dtheta+delta)\n",
    "            theta += dtheta\n",
    "\n",
    "        # end for over name2\n",
    "    # end for over reac\n",
    "    \n",
    "    # end the arc for reactions by this person\n",
    "    total_arcs[name1][\"by\"][1] = theta\n",
    "    \n",
    "    # add the separator between reactions on and by\n",
    "    theta += WHITE_SPACE*SPACE_INOUT\n",
    "    seps[name1][\"inout\"] = (theta, theta+SPACE_INOUT)\n",
    "    theta += (WHITE_SPACE+1)*SPACE_INOUT\n",
    "    \n",
    "    # start the arc for reactions on this person\n",
    "    total_arcs[name1][\"on\"][0] = theta\n",
    "    \n",
    "    # the incomming lines, reactions ON name1\n",
    "    for name2 in NAMES:\n",
    "        # iterate over this list in revers order for better\n",
    "        # aesthtic effect (this prevent excessive crossing of lines)\n",
    "        for i in range(len(REACTIONS)-1, -1,-1):\n",
    "            reac = REACTIONS[i]\n",
    "            # calculate the angle of this segment\n",
    "            by = NAMES_INDEX[name2]\n",
    "            on = NAMES_INDEX[name1]\n",
    "            re = REACTION_INDEX[reac]\n",
    "            dtheta = reaction_angle*reacs[by,on,re]\n",
    "            \n",
    "            # add the beginning and end angle to the dictionary\n",
    "            arcs[name1][\"in\"][reac][name2] = (theta, theta+dtheta)\n",
    "            theta += dtheta\n",
    "            \n",
    "        # end for over reac\n",
    "    # end for over name2\n",
    "    \n",
    "    # end the total arc and the arc for reactions on this person\n",
    "    total_arcs[name1][\"on\"][1] = theta\n",
    "    total_arcs[name1][\"all\"][1] = theta\n",
    "    \n",
    "    # add the separator between two persons\n",
    "    theta += WHITE_SPACE*SPACE_PERSON\n",
    "    seps[name1][\"person\"] = (theta, theta+SPACE_PERSON)\n",
    "    theta += (WHITE_SPACE+1)*SPACE_PERSON\n",
    "# end for over name1"
   ]
  },
  {
   "cell_type": "code",
   "execution_count": null,
   "metadata": {},
   "outputs": [],
   "source": [
    "# ---------------- Plotting parameters ---------------------\n",
    "\n",
    "# sidelingth of the plot in inches\n",
    "SIDE = 15\n",
    "\n",
    "# different color schemes for this plot (light/dark)\n",
    "fmt_light = {\"face_color\" : \"w\", \"sep_color\" : \"k\", \"text_color\" : \"k\",\n",
    "            \"legend_background\" : \"xkcd:light grey\"}\n",
    "fmt_dark = {\"face_color\" : \"k\", \"sep_color\" : \"w\", \"text_color\" : \"w\",\n",
    "            \"legend_background\" : \"xkcd:dark grey\"}\n",
    "FMT = fmt_dark\n",
    "\n",
    "DISPLAY_NAMES = [\"Caesar\", \"Abraracourcix\", \"Asterix\", \"Obelix\", \"Ambiorix\", \"Idéfix\"]\n",
    "\n",
    "TITLE = \"reaction diagram anonymous light\"\n",
    "\n",
    "# the names to draw arrows from\n",
    "NAMES1 = NAMES\n",
    "\n",
    "# Whether the arrow drawn are empty or filled\n",
    "FILLED_ARROWS = True\n",
    "\n",
    "# position, size and width of the circle\n",
    "CENTER = (0,0)\n",
    "WIDTH = 2\n",
    "HEIGHT = 2\n",
    "LINEWIDTH = 10\n",
    "\n",
    "# how much larger the circle with arcs that differenciate between\n",
    "# reactions by and reactions on is\n",
    "FACTOR = 1.03\n",
    "# colors for the arcs for messages by and on\n",
    "COLOR_BY = \"xkcd:cyan\"\n",
    "COLOR_ON = \"xkcd:orange\"\n",
    "\n",
    "# color and size of the separators\n",
    "SEP_COLOR = FMT[\"sep_color\"]\n",
    "SEP_INOUT_WIDTH = 18\n",
    "SEP_PERSON_WIDTH = 22\n",
    "\n",
    "# set the limits of the plot\n",
    "EXTENT = 2.5\n",
    "\n",
    "# linewidth of the Bezier-curve\n",
    "CURVE_WIDTH = (SIDE/EXTENT*0.0245)/2\n",
    "ALPHA = 0.65\n",
    "\n",
    "# the offset of the beginning and end of arrows to compensate\n",
    "# for the finite width of the reaction ring\n",
    "offset = 0.036 * (EXTENT/2*LINEWIDTH/2) / SIDE\n",
    "ARROW_FACTOR = 1-offset\n",
    "\n",
    "# ----------------- The plotting --------------------\n",
    "# create the figure and ax objects\n",
    "fig, ax = plt.subplots(1,1, figsize=(SIDE,SIDE), facecolor=FMT[\"face_color\"])\n",
    "plt.axis(\"off\")\n",
    "ax.set_facecolor(FMT[\"face_color\"])\n",
    "ax.set_xlim(CENTER[0]-EXTENT/2,CENTER[0]+EXTENT/2)\n",
    "ax.set_ylim(CENTER[0]-EXTENT/2,CENTER[0]+EXTENT/2)\n",
    "ax.set_aspect(\"equal\")\n",
    "\n",
    "# whether to save the handles, only done for the very first iteration\n",
    "# of drawing arcs representing emojis\n",
    "save_handles = True\n",
    "handles = {}\n",
    "\n",
    "# draw the circle\n",
    "for name1 in NAMES:\n",
    "    # draw the in-out seperators\n",
    "    theta = seps[name1][\"inout\"]\n",
    "    arc_sep_inout = patches.Arc(CENTER, WIDTH, HEIGHT, fill=False,\n",
    "                               theta1=theta[0], theta2=theta[1],\n",
    "                               color=SEP_COLOR, linewidth=SEP_INOUT_WIDTH)\n",
    "    ax.add_patch(arc_sep_inout)\n",
    "    # draw the in-out seperators\n",
    "    theta = seps[name1][\"person\"]\n",
    "    arc_sep_person = patches.Arc(CENTER, WIDTH, HEIGHT, fill=False,\n",
    "                               theta1=theta[0], theta2=theta[1],\n",
    "                               color=SEP_COLOR, linewidth=SEP_PERSON_WIDTH)\n",
    "    ax.add_patch(arc_sep_person)\n",
    "    \n",
    "    for name2 in NAMES:\n",
    "        for reac in REACTIONS:\n",
    "            # draw the patch for reactions by name1\n",
    "            theta = arcs[name1][\"out\"][reac][name2]\n",
    "            arc_out = patches.Arc(CENTER, WIDTH, HEIGHT, fill=False,\n",
    "                                 theta1=theta[0], theta2=theta[1],\n",
    "                                 color=emoji_color[reac], linewidth=LINEWIDTH)\n",
    "            ax.add_patch(arc_out)\n",
    "            \n",
    "            # draw the patch for reactions on name1\n",
    "            theta = arcs[name1][\"in\"][reac][name2]\n",
    "            arc_in = patches.Arc(CENTER, WIDTH, HEIGHT, fill=False,\n",
    "                                 theta1=theta[0], theta2=theta[1],\n",
    "                                color=emoji_color[reac], linewidth=LINEWIDTH)\n",
    "            ax.add_patch(arc_in)\n",
    "            \n",
    "            if save_handles:\n",
    "                handles[reac] = arc_in\n",
    "        # end for over reac\n",
    "        save_handles = False\n",
    "    # end for over name2\n",
    "    \n",
    "    # draw the arcs signifying whether its reactions by or reactions on\n",
    "    theta = total_arcs[name1][\"on\"]\n",
    "    arc_on = patches.Arc(CENTER, WIDTH*FACTOR, HEIGHT*FACTOR, fill=False,\n",
    "                        theta1 = theta[0], theta2=theta[1],\n",
    "                        color= COLOR_ON, linewidth=LINEWIDTH/2)\n",
    "    theta = total_arcs[name1][\"by\"]\n",
    "    arc_by = patches.Arc(CENTER, WIDTH*FACTOR, HEIGHT*FACTOR, fill=False,\n",
    "                        theta1 = theta[0], theta2=theta[1],\n",
    "                        color= COLOR_BY, linewidth=LINEWIDTH/2)\n",
    "    ax.add_patch(arc_on)\n",
    "    ax.add_patch(arc_by)\n",
    "    \n",
    "# end for over name1\n",
    "\n",
    "handles[\"Reactions by person\"] = arc_by\n",
    "handles[\"Reactions on person\"] = arc_on\n",
    "\n",
    "# draw the lines displaying the reactions\n",
    "for name1 in NAMES1:\n",
    "    for reac in REACTIONS:\n",
    "        for name2 in NAMES:\n",
    "            # the start and end arc\n",
    "            arc0 = arcs[name1][\"out\"][reac][name2]\n",
    "            arc1 = arcs[name2][\"in\"][reac][name1]\n",
    "            # the start and begin angle\n",
    "            theta0 = (arc0[0]+arc0[1])/2 * np.pi/180\n",
    "            theta1 = (arc1[0]+arc1[1])/2 * np.pi/180\n",
    "            # the offset to compensate for the finite width\n",
    "            # of the circle representing reactions\n",
    "            # the starting and end point\n",
    "            START = (np.cos(theta0)*ARROW_FACTOR, np.sin(theta0)*ARROW_FACTOR)\n",
    "            FINNISH = (np.cos(theta1)*ARROW_FACTOR, np.sin(theta1)*ARROW_FACTOR)\n",
    "            \n",
    "            # the weight of the link\n",
    "            i1 = NAMES_INDEX[name1]\n",
    "            i2 = NAMES_INDEX[name2]\n",
    "            i3 = REACTION_INDEX[reac]\n",
    "            weight = reacs[i1,i2,i3]\n",
    "            \n",
    "            # define the stle for the arrows\n",
    "            arrowstyle = patches.ArrowStyle(\"Simple\",\n",
    "                        tail_width=CURVE_WIDTH*weight,\n",
    "                        head_width=CURVE_WIDTH*weight*1.8,\n",
    "                        head_length=CURVE_WIDTH*weight*1.5)\n",
    "            if FILLED_ARROWS:\n",
    "                lw=0\n",
    "            else:\n",
    "                lw=1\n",
    "            # the Bezier curve connecting the points\n",
    "            curve = patches.FancyArrowPatch(path=Path([START, CENTER, FINNISH],\n",
    "                        [Path.MOVETO, Path.CURVE3, Path.CURVE3]),\n",
    "                        color=emoji_color[reac], fill=FILLED_ARROWS, alpha=ALPHA,\n",
    "                        arrowstyle=arrowstyle, lw=lw)\n",
    "            ax.add_patch(curve)\n",
    "            # tail_width=CURVE_WIDTH*weight\n",
    "            \n",
    "        # end for over name2\n",
    "    # end for over reac\n",
    "# end for over name1\n",
    "\n",
    "i = 0\n",
    "# draw the labels\n",
    "for name in NAMES:  \n",
    "    # generate the curve to plot the text on\n",
    "    # text direction is the same as the direction of this parametric curve!\n",
    "    T = np.linspace(total_arcs[name][\"all\"][1] * np.pi/180,\n",
    "                    total_arcs[name][\"all\"][0] * np.pi/180, 1000) \n",
    "    (x, y) = (1.1*np.cos(T), 1.1*np.sin(T))\n",
    "    text = CurvedText(x=x, y=y, text=DISPLAY_NAMES[i], color=FMT[\"text_color\"], size=15,\n",
    "                     verticalalignment=\"center\", horizontalalignment=\"center\",\n",
    "                     axes=ax)\n",
    "    i += 1\n",
    "            \n",
    "legend = plt.legend(handles.values(), handles.keys(), loc=\"upper left\", \n",
    "           facecolor=FMT[\"legend_background\"])\n",
    "for text in legend.get_texts():\n",
    "    text.set_color(FMT[\"text_color\"])\n",
    "\n",
    "plt.title(\"Reaction diagram messenger chat\", color=FMT[\"text_color\"], size=30)\n",
    "    \n",
    "plt.show()\n",
    "\n",
    "fig.savefig(SUBFOLDER + TITLE + \".pdf\", dpi=DPI, facecolor=FMT[\"face_color\"],\n",
    "           bbox_inches=\"tight\")"
   ]
  },
  {
   "cell_type": "markdown",
   "metadata": {},
   "source": [
    "## Analysis \\<type\\> sent through time"
   ]
  },
  {
   "cell_type": "markdown",
   "metadata": {},
   "source": [
    "Create a dataframe to keep track of the messages sent in each interval"
   ]
  },
  {
   "cell_type": "code",
   "execution_count": null,
   "metadata": {},
   "outputs": [],
   "source": [
    "# the time interval used to group lines\n",
    "interval = pd.Timedelta(\"1 days\")\n",
    "\n",
    "ONE_PERSON = False\n",
    "PERSON_NAME = \"\""
   ]
  },
  {
   "cell_type": "code",
   "execution_count": null,
   "metadata": {},
   "outputs": [],
   "source": [
    "# this tests if a line should be counted towards\n",
    "# <type> and for which person it should be counted\n",
    "def condition(line):\n",
    "    # this just counts generic messages\n",
    "    if (line.type == \"Generic\"):\n",
    "        return (True, line.sender_name)\n",
    "    return (False, None)\n",
    "\n",
    "# determine the start and end dates for the frame, rounded to \n",
    "start = pd.to_datetime(message_frame.index.values[0])\n",
    "end = pd.to_datetime(message_frame.index.values[-1])\n",
    "start = max(pd.to_datetime(BEGIN),\n",
    "            start.floor(interval))\n",
    "end = min(pd.to_datetime(END)+interval, \n",
    "          end.floor(interval)+interval)\n",
    "\n",
    "# create the index\n",
    "index = pd.date_range(start, end, freq=interval)\n",
    "# create the dataframe\n",
    "count_frame = pd.DataFrame(0, columns=NAMES + [\"total\"], index=index)\n",
    "\n",
    "# iterate over every interval and count the lines that meet\n",
    "# condition for every person\n",
    "for i in range(len(index)-1):\n",
    "    for temp, line in message_frame[index[i]:index[i+1]].iterrows():\n",
    "        result = condition(line)\n",
    "        if result[0]:\n",
    "            count_frame.loc[index[i]][\"total\"] += 1\n",
    "            count_frame.loc[index[i]][result[1]] += 1"
   ]
  },
  {
   "cell_type": "code",
   "execution_count": null,
   "metadata": {
    "hidden": true
   },
   "outputs": [],
   "source": [
    "# kernel density estimate for the bar plot\n",
    "def KDE(X, counts, bandwidth):\n",
    "    Y = np.zeros_like(X)\n",
    "    x = 0.5\n",
    "    for count in counts:\n",
    "        Y += count*nst.norm.pdf(X, loc=x, scale=bandwidth)\n",
    "        x += 1\n",
    "        \n",
    "    return Y"
   ]
  },
  {
   "cell_type": "code",
   "execution_count": null,
   "metadata": {
    "hidden": true
   },
   "outputs": [],
   "source": [
    "fig, ax = plt.subplots(1,1,figsize=(24,8))\n",
    "\n",
    "if ONE_PERSON:\n",
    "    y_data = np.array(count_frame[PERSON_NAME].values, np.float64)\n",
    "else:\n",
    "    y_data = np.array(count_frame[\"total\"].values, np.float64)\n",
    "\n",
    "KDE_points = 2000\n",
    "X = np.linspace(0.5,len(y_data)-0.5,KDE_points)\n",
    "D = pd.date_range(count_frame.index[0], count_frame.index[-1], KDE_points)\n",
    "Y = KDE(X, y_data, 3)\n",
    "Y0 = np.zeros_like(X)\n",
    "\n",
    "ax.bar(count_frame.index, y_data, width=1, color=\"xkcd:royal blue\")\n",
    "ax.plot(D, Y, color='xkcd:vermillion', linewidth=3)\n",
    "ax.fill_between(D, Y0, Y, color='xkcd:vermillion', alpha=0.3)\n",
    "ax.grid(True)\n",
    "\n",
    "if ONE_PERSON:\n",
    "    plt.title(\"Aantal versuurde berichten per dag in %s door %s\" %(TITLE, PERSON_NAME))\n",
    "else:\n",
    "    plt.title(\"Aantal versuurde berichten per dag in %s door iedereen\" %TITLE)\n",
    "\n",
    "plt.show()\n",
    "\n",
    "if SAVE_PLOTS:\n",
    "    fig.savefig(SUBFOLDER + \"/berichten per dag bar\" + EXTENSION, dpi=DPI)"
   ]
  },
  {
   "cell_type": "markdown",
   "metadata": {
    "hidden": true
   },
   "source": [
    "**Compare the activity of 2 people**"
   ]
  },
  {
   "cell_type": "code",
   "execution_count": null,
   "metadata": {
    "hidden": true
   },
   "outputs": [],
   "source": [
    "# the persons to make the plot for and the colors for each person\n",
    "PERSONS = Names[0:4]\n",
    "colors = [\"xkcd:vermillion\", \"xkcd:royal blue\", \"xkcd:lime\", \"xkcd:sunflower\"]\n",
    "KDE_points = 2000\n",
    "PLOT_BARS = False\n",
    "\n",
    "# generate the figure and axis\n",
    "fig, ax = plt.subplots(1,1,figsize=(24,8))\n",
    "\n",
    "# get the data to plot\n",
    "y_data = [np.array(count_frame[name].values, np.float64) for name in PERSONS]\n",
    "\n",
    "# arrays for kernel density estimate\n",
    "X = np.linspace(0.5,len(y_data[0])-0.5,KDE_points)\n",
    "D = pd.date_range(count_frame.index[0], count_frame.index[-1], KDE_points)\n",
    "Y0 = np.zeros_like(X)\n",
    "\n",
    "# make the barplots\n",
    "# get for how many people the plot is made:\n",
    "num_persons = len(PERSONS)\n",
    "# calculate the width of each bar, the total should be 1\n",
    "width = 1/num_persons\n",
    "# calculate the offset of the bars.\n",
    "offset = -0.5 + width/2\n",
    "# set the dates as index:\n",
    "index = np.arange(len(count_frame))\n",
    "# make the bar plots\n",
    "for i in range(len(PERSONS)):\n",
    "    if PLOT_BARS:\n",
    "        ax.bar(index - offset + i*width, y_data[i], width, color=colors[i])\n",
    "    # calculate the kernel density estimate\n",
    "    Y = KDE(X, y_data[i], 3)\n",
    "    # plot the KDE\n",
    "    ax.plot(X, Y, color=colors[i], linewidth=3, label=PERSONS[i])\n",
    "    ax.fill_between(X, Y0, Y, color=colors[i], alpha=0.3)\n",
    "\n",
    "# positions of xticks and corresponding labels\n",
    "# 15 labels\n",
    "major_indexes = [math.floor(index[-1]*i/15) for i in range(16)]\n",
    "minor_indexes = [math.floor(index[-1]*i/45) for i in range(46)]\n",
    "major_ticks = [index[i] for i in major_indexes]\n",
    "labels = [count_frame.index[i] for i in major_indexes]\n",
    "minor_ticks = [index[i] for i in minor_indexes]\n",
    "    \n",
    "# lay-out\n",
    "ax.set_xticks(major_ticks)\n",
    "ax.set_xticks(minor_ticks, True)\n",
    "ax.set_xticklabels(labels)\n",
    "plt.xticks(rotation=75)\n",
    "plt.legend()\n",
    "plt.title(\"Berichten per dag, per persoon in %s\" %TITLE)\n",
    "ax.grid(True)\n",
    "\n",
    "\n",
    "if SAVE_PLOTS:\n",
    "    fig.savefig(SUBFOLDER + \"/berichten per dag per persoon\" + EXTENSION, dpi=DPI)"
   ]
  }
 ],
 "metadata": {
  "kernelspec": {
   "display_name": "Python 3",
   "language": "python",
   "name": "python3"
  },
  "language_info": {
   "codemirror_mode": {
    "name": "ipython",
    "version": 3
   },
   "file_extension": ".py",
   "mimetype": "text/x-python",
   "name": "python",
   "nbconvert_exporter": "python",
   "pygments_lexer": "ipython3",
   "version": "3.7.5"
  }
 },
 "nbformat": 4,
 "nbformat_minor": 4
}
